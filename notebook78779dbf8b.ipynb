{
 "cells": [
  {
   "cell_type": "code",
   "execution_count": 1,
   "id": "8989852c",
   "metadata": {
    "_cell_guid": "b1076dfc-b9ad-4769-8c92-a6c4dae69d19",
    "_uuid": "8f2839f25d086af736a60e9eeb907d3b93b6e0e5",
    "execution": {
     "iopub.execute_input": "2021-07-17T15:33:21.455228Z",
     "iopub.status.busy": "2021-07-17T15:33:21.454616Z",
     "iopub.status.idle": "2021-07-17T15:33:21.458820Z",
     "shell.execute_reply": "2021-07-17T15:33:21.459432Z",
     "shell.execute_reply.started": "2021-07-17T15:04:25.286338Z"
    },
    "papermill": {
     "duration": 0.036587,
     "end_time": "2021-07-17T15:33:21.459717",
     "exception": false,
     "start_time": "2021-07-17T15:33:21.423130",
     "status": "completed"
    },
    "tags": []
   },
   "outputs": [
    {
     "name": "stdout",
     "output_type": "stream",
     "text": [
      "/kaggle/input/porto-seguro-safe-driver-prediction/sample_submission.csv\n",
      "/kaggle/input/porto-seguro-safe-driver-prediction/train.csv\n",
      "/kaggle/input/porto-seguro-safe-driver-prediction/test.csv\n"
     ]
    }
   ],
   "source": [
    "# This Python 3 environment comes with many helpful analytics libraries installed\n",
    "# It is defined by the kaggle/python Docker image: https://github.com/kaggle/docker-python\n",
    "# For example, here's several helpful packages to load\n",
    "\n",
    "import numpy as np # linear algebra\n",
    "import pandas as pd # data processing, CSV file I/O (e.g. pd.read_csv)\n",
    "\n",
    "# Input data files are available in the read-only \"../input/\" directory\n",
    "# For example, running this (by clicking run or pressing Shift+Enter) will list all files under the input directory\n",
    "\n",
    "import os\n",
    "for dirname, _, filenames in os.walk('/kaggle/input'):\n",
    "    for filename in filenames:\n",
    "        print(os.path.join(dirname, filename))\n",
    "\n",
    "# You can write up to 20GB to the current directory (/kaggle/working/) that gets preserved as output when you create a version using \"Save & Run All\" \n",
    "# You can also write temporary files to /kaggle/temp/, but they won't be saved outside of the current session"
   ]
  },
  {
   "cell_type": "code",
   "execution_count": 2,
   "id": "e0fc56de",
   "metadata": {
    "execution": {
     "iopub.execute_input": "2021-07-17T15:33:21.498563Z",
     "iopub.status.busy": "2021-07-17T15:33:21.497793Z",
     "iopub.status.idle": "2021-07-17T15:33:22.554688Z",
     "shell.execute_reply": "2021-07-17T15:33:22.554049Z",
     "shell.execute_reply.started": "2021-07-17T15:04:25.300636Z"
    },
    "papermill": {
     "duration": 1.078092,
     "end_time": "2021-07-17T15:33:22.554825",
     "exception": false,
     "start_time": "2021-07-17T15:33:21.476733",
     "status": "completed"
    },
    "tags": []
   },
   "outputs": [],
   "source": [
    "import numpy as np\n",
    "import pandas as pd\n",
    "import seaborn as sns\n",
    "import matplotlib.pyplot as plt\n",
    "%matplotlib inline\n",
    "from sklearn.model_selection import StratifiedKFold\n",
    "import xgboost as xgb"
   ]
  },
  {
   "cell_type": "markdown",
   "id": "e0fe63e0",
   "metadata": {
    "papermill": {
     "duration": 0.016467,
     "end_time": "2021-07-17T15:33:22.588164",
     "exception": false,
     "start_time": "2021-07-17T15:33:22.571697",
     "status": "completed"
    },
    "tags": []
   },
   "source": [
    "**Data Cleaning**"
   ]
  },
  {
   "cell_type": "code",
   "execution_count": 3,
   "id": "456e4f1b",
   "metadata": {
    "execution": {
     "iopub.execute_input": "2021-07-17T15:33:22.627258Z",
     "iopub.status.busy": "2021-07-17T15:33:22.626629Z",
     "iopub.status.idle": "2021-07-17T15:33:32.205565Z",
     "shell.execute_reply": "2021-07-17T15:33:32.206029Z",
     "shell.execute_reply.started": "2021-07-17T15:04:25.310757Z"
    },
    "papermill": {
     "duration": 9.601303,
     "end_time": "2021-07-17T15:33:32.206182",
     "exception": false,
     "start_time": "2021-07-17T15:33:22.604879",
     "status": "completed"
    },
    "tags": []
   },
   "outputs": [
    {
     "data": {
      "text/plain": [
       "(595212, 59)"
      ]
     },
     "execution_count": 3,
     "metadata": {},
     "output_type": "execute_result"
    }
   ],
   "source": [
    "train=pd.read_csv('../input/porto-seguro-safe-driver-prediction/train.csv', na_values=-1)\n",
    "test=pd.read_csv('../input/porto-seguro-safe-driver-prediction/test.csv', na_values=-1)\n",
    "train.shape"
   ]
  },
  {
   "cell_type": "code",
   "execution_count": 4,
   "id": "9fae2305",
   "metadata": {
    "execution": {
     "iopub.execute_input": "2021-07-17T15:33:32.243187Z",
     "iopub.status.busy": "2021-07-17T15:33:32.242570Z",
     "iopub.status.idle": "2021-07-17T15:33:32.274784Z",
     "shell.execute_reply": "2021-07-17T15:33:32.274303Z",
     "shell.execute_reply.started": "2021-07-17T15:04:32.521076Z"
    },
    "papermill": {
     "duration": 0.051839,
     "end_time": "2021-07-17T15:33:32.274918",
     "exception": false,
     "start_time": "2021-07-17T15:33:32.223079",
     "status": "completed"
    },
    "tags": []
   },
   "outputs": [
    {
     "data": {
      "text/html": [
       "<div>\n",
       "<style scoped>\n",
       "    .dataframe tbody tr th:only-of-type {\n",
       "        vertical-align: middle;\n",
       "    }\n",
       "\n",
       "    .dataframe tbody tr th {\n",
       "        vertical-align: top;\n",
       "    }\n",
       "\n",
       "    .dataframe thead th {\n",
       "        text-align: right;\n",
       "    }\n",
       "</style>\n",
       "<table border=\"1\" class=\"dataframe\">\n",
       "  <thead>\n",
       "    <tr style=\"text-align: right;\">\n",
       "      <th></th>\n",
       "      <th>id</th>\n",
       "      <th>target</th>\n",
       "      <th>ps_ind_01</th>\n",
       "      <th>ps_ind_02_cat</th>\n",
       "      <th>ps_ind_03</th>\n",
       "      <th>ps_ind_04_cat</th>\n",
       "      <th>ps_ind_05_cat</th>\n",
       "      <th>ps_ind_06_bin</th>\n",
       "      <th>ps_ind_07_bin</th>\n",
       "      <th>ps_ind_08_bin</th>\n",
       "      <th>...</th>\n",
       "      <th>ps_calc_11</th>\n",
       "      <th>ps_calc_12</th>\n",
       "      <th>ps_calc_13</th>\n",
       "      <th>ps_calc_14</th>\n",
       "      <th>ps_calc_15_bin</th>\n",
       "      <th>ps_calc_16_bin</th>\n",
       "      <th>ps_calc_17_bin</th>\n",
       "      <th>ps_calc_18_bin</th>\n",
       "      <th>ps_calc_19_bin</th>\n",
       "      <th>ps_calc_20_bin</th>\n",
       "    </tr>\n",
       "  </thead>\n",
       "  <tbody>\n",
       "    <tr>\n",
       "      <th>0</th>\n",
       "      <td>7</td>\n",
       "      <td>0</td>\n",
       "      <td>2</td>\n",
       "      <td>2.0</td>\n",
       "      <td>5</td>\n",
       "      <td>1.0</td>\n",
       "      <td>0.0</td>\n",
       "      <td>0</td>\n",
       "      <td>1</td>\n",
       "      <td>0</td>\n",
       "      <td>...</td>\n",
       "      <td>9</td>\n",
       "      <td>1</td>\n",
       "      <td>5</td>\n",
       "      <td>8</td>\n",
       "      <td>0</td>\n",
       "      <td>1</td>\n",
       "      <td>1</td>\n",
       "      <td>0</td>\n",
       "      <td>0</td>\n",
       "      <td>1</td>\n",
       "    </tr>\n",
       "    <tr>\n",
       "      <th>1</th>\n",
       "      <td>9</td>\n",
       "      <td>0</td>\n",
       "      <td>1</td>\n",
       "      <td>1.0</td>\n",
       "      <td>7</td>\n",
       "      <td>0.0</td>\n",
       "      <td>0.0</td>\n",
       "      <td>0</td>\n",
       "      <td>0</td>\n",
       "      <td>1</td>\n",
       "      <td>...</td>\n",
       "      <td>3</td>\n",
       "      <td>1</td>\n",
       "      <td>1</td>\n",
       "      <td>9</td>\n",
       "      <td>0</td>\n",
       "      <td>1</td>\n",
       "      <td>1</td>\n",
       "      <td>0</td>\n",
       "      <td>1</td>\n",
       "      <td>0</td>\n",
       "    </tr>\n",
       "    <tr>\n",
       "      <th>2</th>\n",
       "      <td>13</td>\n",
       "      <td>0</td>\n",
       "      <td>5</td>\n",
       "      <td>4.0</td>\n",
       "      <td>9</td>\n",
       "      <td>1.0</td>\n",
       "      <td>0.0</td>\n",
       "      <td>0</td>\n",
       "      <td>0</td>\n",
       "      <td>1</td>\n",
       "      <td>...</td>\n",
       "      <td>4</td>\n",
       "      <td>2</td>\n",
       "      <td>7</td>\n",
       "      <td>7</td>\n",
       "      <td>0</td>\n",
       "      <td>1</td>\n",
       "      <td>1</td>\n",
       "      <td>0</td>\n",
       "      <td>1</td>\n",
       "      <td>0</td>\n",
       "    </tr>\n",
       "    <tr>\n",
       "      <th>3</th>\n",
       "      <td>16</td>\n",
       "      <td>0</td>\n",
       "      <td>0</td>\n",
       "      <td>1.0</td>\n",
       "      <td>2</td>\n",
       "      <td>0.0</td>\n",
       "      <td>0.0</td>\n",
       "      <td>1</td>\n",
       "      <td>0</td>\n",
       "      <td>0</td>\n",
       "      <td>...</td>\n",
       "      <td>2</td>\n",
       "      <td>2</td>\n",
       "      <td>4</td>\n",
       "      <td>9</td>\n",
       "      <td>0</td>\n",
       "      <td>0</td>\n",
       "      <td>0</td>\n",
       "      <td>0</td>\n",
       "      <td>0</td>\n",
       "      <td>0</td>\n",
       "    </tr>\n",
       "    <tr>\n",
       "      <th>4</th>\n",
       "      <td>17</td>\n",
       "      <td>0</td>\n",
       "      <td>0</td>\n",
       "      <td>2.0</td>\n",
       "      <td>0</td>\n",
       "      <td>1.0</td>\n",
       "      <td>0.0</td>\n",
       "      <td>1</td>\n",
       "      <td>0</td>\n",
       "      <td>0</td>\n",
       "      <td>...</td>\n",
       "      <td>3</td>\n",
       "      <td>1</td>\n",
       "      <td>1</td>\n",
       "      <td>3</td>\n",
       "      <td>0</td>\n",
       "      <td>0</td>\n",
       "      <td>0</td>\n",
       "      <td>1</td>\n",
       "      <td>1</td>\n",
       "      <td>0</td>\n",
       "    </tr>\n",
       "  </tbody>\n",
       "</table>\n",
       "<p>5 rows × 59 columns</p>\n",
       "</div>"
      ],
      "text/plain": [
       "   id  target  ps_ind_01  ps_ind_02_cat  ps_ind_03  ps_ind_04_cat  \\\n",
       "0   7       0          2            2.0          5            1.0   \n",
       "1   9       0          1            1.0          7            0.0   \n",
       "2  13       0          5            4.0          9            1.0   \n",
       "3  16       0          0            1.0          2            0.0   \n",
       "4  17       0          0            2.0          0            1.0   \n",
       "\n",
       "   ps_ind_05_cat  ps_ind_06_bin  ps_ind_07_bin  ps_ind_08_bin  ...  \\\n",
       "0            0.0              0              1              0  ...   \n",
       "1            0.0              0              0              1  ...   \n",
       "2            0.0              0              0              1  ...   \n",
       "3            0.0              1              0              0  ...   \n",
       "4            0.0              1              0              0  ...   \n",
       "\n",
       "   ps_calc_11  ps_calc_12  ps_calc_13  ps_calc_14  ps_calc_15_bin  \\\n",
       "0           9           1           5           8               0   \n",
       "1           3           1           1           9               0   \n",
       "2           4           2           7           7               0   \n",
       "3           2           2           4           9               0   \n",
       "4           3           1           1           3               0   \n",
       "\n",
       "   ps_calc_16_bin  ps_calc_17_bin  ps_calc_18_bin  ps_calc_19_bin  \\\n",
       "0               1               1               0               0   \n",
       "1               1               1               0               1   \n",
       "2               1               1               0               1   \n",
       "3               0               0               0               0   \n",
       "4               0               0               1               1   \n",
       "\n",
       "   ps_calc_20_bin  \n",
       "0               1  \n",
       "1               0  \n",
       "2               0  \n",
       "3               0  \n",
       "4               0  \n",
       "\n",
       "[5 rows x 59 columns]"
      ]
     },
     "execution_count": 4,
     "metadata": {},
     "output_type": "execute_result"
    }
   ],
   "source": [
    "train.head()"
   ]
  },
  {
   "cell_type": "code",
   "execution_count": 5,
   "id": "df76eac4",
   "metadata": {
    "execution": {
     "iopub.execute_input": "2021-07-17T15:33:32.314881Z",
     "iopub.status.busy": "2021-07-17T15:33:32.313823Z",
     "iopub.status.idle": "2021-07-17T15:33:32.350083Z",
     "shell.execute_reply": "2021-07-17T15:33:32.350487Z",
     "shell.execute_reply.started": "2021-07-17T15:04:32.548406Z"
    },
    "papermill": {
     "duration": 0.058386,
     "end_time": "2021-07-17T15:33:32.350689",
     "exception": false,
     "start_time": "2021-07-17T15:33:32.292303",
     "status": "completed"
    },
    "tags": []
   },
   "outputs": [
    {
     "data": {
      "text/plain": [
       "True"
      ]
     },
     "execution_count": 5,
     "metadata": {},
     "output_type": "execute_result"
    }
   ],
   "source": [
    "train.isnull().values.any()\n"
   ]
  },
  {
   "cell_type": "code",
   "execution_count": 6,
   "id": "7df6825c",
   "metadata": {
    "execution": {
     "iopub.execute_input": "2021-07-17T15:33:32.395148Z",
     "iopub.status.busy": "2021-07-17T15:33:32.394057Z",
     "iopub.status.idle": "2021-07-17T15:33:32.694252Z",
     "shell.execute_reply": "2021-07-17T15:33:32.693738Z",
     "shell.execute_reply.started": "2021-07-17T15:04:32.596943Z"
    },
    "papermill": {
     "duration": 0.325738,
     "end_time": "2021-07-17T15:33:32.694419",
     "exception": false,
     "start_time": "2021-07-17T15:33:32.368681",
     "status": "completed"
    },
    "tags": []
   },
   "outputs": [
    {
     "name": "stdout",
     "output_type": "stream",
     "text": [
      "      column_name  missing_count\n",
      "35      ps_car_12              1\n",
      "24  ps_car_02_cat              5\n",
      "34      ps_car_11              5\n",
      "5   ps_ind_04_cat             83\n",
      "23  ps_car_01_cat            107\n",
      "3   ps_ind_02_cat            216\n",
      "31  ps_car_09_cat            569\n",
      "6   ps_ind_05_cat           5809\n",
      "29  ps_car_07_cat          11489\n",
      "37      ps_car_14          42620\n",
      "22      ps_reg_03         107772\n",
      "27  ps_car_05_cat         266551\n",
      "25  ps_car_03_cat         411231\n"
     ]
    },
    {
     "data": {
      "image/png": "[encoded data removed]",
      "text/plain": [
       "<Figure size 576x432 with 1 Axes>"
      ]
     },
     "metadata": {
      "needs_background": "light"
     },
     "output_type": "display_data"
    }
   ],
   "source": [
    "missing_df = train.isnull().sum(axis=0).reset_index()\n",
    "missing_df.columns = ['column_name', 'missing_count']\n",
    "missing_df = missing_df.loc[missing_df['missing_count']>0]\n",
    "missing_df = missing_df.sort_values(by='missing_count')\n",
    "print(missing_df)\n",
    "\n",
    "ind = np.arange(missing_df.shape[0])\n",
    "width = 0.9\n",
    "fig, ax = plt.subplots(figsize=(8,6))\n",
    "rects = ax.barh(ind, missing_df.missing_count.values, color='blue')\n",
    "ax.set_yticks(ind)\n",
    "ax.set_yticklabels(missing_df.column_name.values, rotation='horizontal')\n",
    "ax.set_xlabel(\"Count of missing values\")\n",
    "ax.set_title(\"Number of missing values in each column\")\n",
    "plt.show()"
   ]
  },
  {
   "cell_type": "code",
   "execution_count": null,
   "id": "ff3a502b",
   "metadata": {
    "papermill": {
     "duration": 0.019239,
     "end_time": "2021-07-17T15:33:32.733179",
     "exception": false,
     "start_time": "2021-07-17T15:33:32.713940",
     "status": "completed"
    },
    "tags": []
   },
   "outputs": [],
   "source": []
  },
  {
   "cell_type": "code",
   "execution_count": 7,
   "id": "b54a0495",
   "metadata": {
    "execution": {
     "iopub.execute_input": "2021-07-17T15:33:32.848978Z",
     "iopub.status.busy": "2021-07-17T15:33:32.829677Z",
     "iopub.status.idle": "2021-07-17T15:33:32.947631Z",
     "shell.execute_reply": "2021-07-17T15:33:32.947064Z",
     "shell.execute_reply.started": "2021-07-17T15:04:32.929610Z"
    },
    "papermill": {
     "duration": 0.195197,
     "end_time": "2021-07-17T15:33:32.947784",
     "exception": false,
     "start_time": "2021-07-17T15:33:32.752587",
     "status": "completed"
    },
    "tags": []
   },
   "outputs": [],
   "source": [
    "features = train.drop(['id','target'], axis=1).values\n",
    "targets = train.target.values"
   ]
  },
  {
   "cell_type": "code",
   "execution_count": 8,
   "id": "36288072",
   "metadata": {
    "execution": {
     "iopub.execute_input": "2021-07-17T15:33:32.993620Z",
     "iopub.status.busy": "2021-07-17T15:33:32.992973Z",
     "iopub.status.idle": "2021-07-17T15:33:33.167078Z",
     "shell.execute_reply": "2021-07-17T15:33:33.167544Z",
     "shell.execute_reply.started": "2021-07-17T15:04:33.119961Z"
    },
    "papermill": {
     "duration": 0.200719,
     "end_time": "2021-07-17T15:33:33.167729",
     "exception": false,
     "start_time": "2021-07-17T15:33:32.967010",
     "status": "completed"
    },
    "tags": []
   },
   "outputs": [
    {
     "data": {
      "image/png": "[encoded data removed]",
      "text/plain": [
       "<Figure size 720x360 with 1 Axes>"
      ]
     },
     "metadata": {
      "needs_background": "light"
     },
     "output_type": "display_data"
    }
   ],
   "source": [
    "ax = sns.countplot(x = targets ,palette=\"Set2\")\n",
    "sns.set(font_scale=1.5)\n",
    "ax.set_xlabel(' ')\n",
    "ax.set_ylabel(' ')\n",
    "fig = plt.gcf()\n",
    "fig.set_size_inches(10,5)\n",
    "ax.set_ylim(top=700000)\n",
    "for p in ax.patches:\n",
    "    ax.annotate('{:.2f}%'.format(100*p.get_height()/len(targets)), (p.get_x()+ 0.3, p.get_height()+10000))\n",
    "\n",
    "plt.title('Distribution of 595212 Targets')\n",
    "plt.xlabel('Initiation of Auto Insurance Claim Next Year')\n",
    "plt.ylabel('Frequency [%]')\n",
    "plt.show()"
   ]
  },
  {
   "cell_type": "code",
   "execution_count": 9,
   "id": "c69fe179",
   "metadata": {
    "execution": {
     "iopub.execute_input": "2021-07-17T15:33:33.229880Z",
     "iopub.status.busy": "2021-07-17T15:33:33.228955Z",
     "iopub.status.idle": "2021-07-17T15:33:33.233970Z",
     "shell.execute_reply": "2021-07-17T15:33:33.233365Z",
     "shell.execute_reply.started": "2021-07-17T15:04:33.324243Z"
    },
    "papermill": {
     "duration": 0.046011,
     "end_time": "2021-07-17T15:33:33.234090",
     "exception": false,
     "start_time": "2021-07-17T15:33:33.188079",
     "status": "completed"
    },
    "tags": []
   },
   "outputs": [
    {
     "data": {
      "text/html": [
       "<div>\n",
       "<style scoped>\n",
       "    .dataframe tbody tr th:only-of-type {\n",
       "        vertical-align: middle;\n",
       "    }\n",
       "\n",
       "    .dataframe tbody tr th {\n",
       "        vertical-align: top;\n",
       "    }\n",
       "\n",
       "    .dataframe thead th {\n",
       "        text-align: right;\n",
       "    }\n",
       "</style>\n",
       "<table border=\"1\" class=\"dataframe\">\n",
       "  <thead>\n",
       "    <tr style=\"text-align: right;\">\n",
       "      <th></th>\n",
       "      <th>id</th>\n",
       "      <th>target</th>\n",
       "      <th>ps_ind_01</th>\n",
       "      <th>ps_ind_02_cat</th>\n",
       "      <th>ps_ind_03</th>\n",
       "      <th>ps_ind_04_cat</th>\n",
       "      <th>ps_ind_05_cat</th>\n",
       "      <th>ps_ind_06_bin</th>\n",
       "      <th>ps_ind_07_bin</th>\n",
       "      <th>ps_ind_08_bin</th>\n",
       "      <th>...</th>\n",
       "      <th>ps_calc_11</th>\n",
       "      <th>ps_calc_12</th>\n",
       "      <th>ps_calc_13</th>\n",
       "      <th>ps_calc_14</th>\n",
       "      <th>ps_calc_15_bin</th>\n",
       "      <th>ps_calc_16_bin</th>\n",
       "      <th>ps_calc_17_bin</th>\n",
       "      <th>ps_calc_18_bin</th>\n",
       "      <th>ps_calc_19_bin</th>\n",
       "      <th>ps_calc_20_bin</th>\n",
       "    </tr>\n",
       "  </thead>\n",
       "  <tbody>\n",
       "    <tr>\n",
       "      <th>0</th>\n",
       "      <td>7</td>\n",
       "      <td>0</td>\n",
       "      <td>2</td>\n",
       "      <td>2.0</td>\n",
       "      <td>5</td>\n",
       "      <td>1.0</td>\n",
       "      <td>0.0</td>\n",
       "      <td>0</td>\n",
       "      <td>1</td>\n",
       "      <td>0</td>\n",
       "      <td>...</td>\n",
       "      <td>9</td>\n",
       "      <td>1</td>\n",
       "      <td>5</td>\n",
       "      <td>8</td>\n",
       "      <td>0</td>\n",
       "      <td>1</td>\n",
       "      <td>1</td>\n",
       "      <td>0</td>\n",
       "      <td>0</td>\n",
       "      <td>1</td>\n",
       "    </tr>\n",
       "    <tr>\n",
       "      <th>1</th>\n",
       "      <td>9</td>\n",
       "      <td>0</td>\n",
       "      <td>1</td>\n",
       "      <td>1.0</td>\n",
       "      <td>7</td>\n",
       "      <td>0.0</td>\n",
       "      <td>0.0</td>\n",
       "      <td>0</td>\n",
       "      <td>0</td>\n",
       "      <td>1</td>\n",
       "      <td>...</td>\n",
       "      <td>3</td>\n",
       "      <td>1</td>\n",
       "      <td>1</td>\n",
       "      <td>9</td>\n",
       "      <td>0</td>\n",
       "      <td>1</td>\n",
       "      <td>1</td>\n",
       "      <td>0</td>\n",
       "      <td>1</td>\n",
       "      <td>0</td>\n",
       "    </tr>\n",
       "    <tr>\n",
       "      <th>2</th>\n",
       "      <td>13</td>\n",
       "      <td>0</td>\n",
       "      <td>5</td>\n",
       "      <td>4.0</td>\n",
       "      <td>9</td>\n",
       "      <td>1.0</td>\n",
       "      <td>0.0</td>\n",
       "      <td>0</td>\n",
       "      <td>0</td>\n",
       "      <td>1</td>\n",
       "      <td>...</td>\n",
       "      <td>4</td>\n",
       "      <td>2</td>\n",
       "      <td>7</td>\n",
       "      <td>7</td>\n",
       "      <td>0</td>\n",
       "      <td>1</td>\n",
       "      <td>1</td>\n",
       "      <td>0</td>\n",
       "      <td>1</td>\n",
       "      <td>0</td>\n",
       "    </tr>\n",
       "    <tr>\n",
       "      <th>3</th>\n",
       "      <td>16</td>\n",
       "      <td>0</td>\n",
       "      <td>0</td>\n",
       "      <td>1.0</td>\n",
       "      <td>2</td>\n",
       "      <td>0.0</td>\n",
       "      <td>0.0</td>\n",
       "      <td>1</td>\n",
       "      <td>0</td>\n",
       "      <td>0</td>\n",
       "      <td>...</td>\n",
       "      <td>2</td>\n",
       "      <td>2</td>\n",
       "      <td>4</td>\n",
       "      <td>9</td>\n",
       "      <td>0</td>\n",
       "      <td>0</td>\n",
       "      <td>0</td>\n",
       "      <td>0</td>\n",
       "      <td>0</td>\n",
       "      <td>0</td>\n",
       "    </tr>\n",
       "    <tr>\n",
       "      <th>4</th>\n",
       "      <td>17</td>\n",
       "      <td>0</td>\n",
       "      <td>0</td>\n",
       "      <td>2.0</td>\n",
       "      <td>0</td>\n",
       "      <td>1.0</td>\n",
       "      <td>0.0</td>\n",
       "      <td>1</td>\n",
       "      <td>0</td>\n",
       "      <td>0</td>\n",
       "      <td>...</td>\n",
       "      <td>3</td>\n",
       "      <td>1</td>\n",
       "      <td>1</td>\n",
       "      <td>3</td>\n",
       "      <td>0</td>\n",
       "      <td>0</td>\n",
       "      <td>0</td>\n",
       "      <td>1</td>\n",
       "      <td>1</td>\n",
       "      <td>0</td>\n",
       "    </tr>\n",
       "  </tbody>\n",
       "</table>\n",
       "<p>5 rows × 59 columns</p>\n",
       "</div>"
      ],
      "text/plain": [
       "   id  target  ps_ind_01  ps_ind_02_cat  ps_ind_03  ps_ind_04_cat  \\\n",
       "0   7       0          2            2.0          5            1.0   \n",
       "1   9       0          1            1.0          7            0.0   \n",
       "2  13       0          5            4.0          9            1.0   \n",
       "3  16       0          0            1.0          2            0.0   \n",
       "4  17       0          0            2.0          0            1.0   \n",
       "\n",
       "   ps_ind_05_cat  ps_ind_06_bin  ps_ind_07_bin  ps_ind_08_bin  ...  \\\n",
       "0            0.0              0              1              0  ...   \n",
       "1            0.0              0              0              1  ...   \n",
       "2            0.0              0              0              1  ...   \n",
       "3            0.0              1              0              0  ...   \n",
       "4            0.0              1              0              0  ...   \n",
       "\n",
       "   ps_calc_11  ps_calc_12  ps_calc_13  ps_calc_14  ps_calc_15_bin  \\\n",
       "0           9           1           5           8               0   \n",
       "1           3           1           1           9               0   \n",
       "2           4           2           7           7               0   \n",
       "3           2           2           4           9               0   \n",
       "4           3           1           1           3               0   \n",
       "\n",
       "   ps_calc_16_bin  ps_calc_17_bin  ps_calc_18_bin  ps_calc_19_bin  \\\n",
       "0               1               1               0               0   \n",
       "1               1               1               0               1   \n",
       "2               1               1               0               1   \n",
       "3               0               0               0               0   \n",
       "4               0               0               1               1   \n",
       "\n",
       "   ps_calc_20_bin  \n",
       "0               1  \n",
       "1               0  \n",
       "2               0  \n",
       "3               0  \n",
       "4               0  \n",
       "\n",
       "[5 rows x 59 columns]"
      ]
     },
     "execution_count": 9,
     "metadata": {},
     "output_type": "execute_result"
    }
   ],
   "source": [
    "train.head()"
   ]
  },
  {
   "cell_type": "code",
   "execution_count": 10,
   "id": "2a2f6775",
   "metadata": {
    "execution": {
     "iopub.execute_input": "2021-07-17T15:33:33.284501Z",
     "iopub.status.busy": "2021-07-17T15:33:33.283207Z",
     "iopub.status.idle": "2021-07-17T15:33:40.032835Z",
     "shell.execute_reply": "2021-07-17T15:33:40.033318Z",
     "shell.execute_reply.started": "2021-07-17T15:04:33.351603Z"
    },
    "papermill": {
     "duration": 6.77834,
     "end_time": "2021-07-17T15:33:40.033476",
     "exception": false,
     "start_time": "2021-07-17T15:33:33.255136",
     "status": "completed"
    },
    "tags": []
   },
   "outputs": [
    {
     "data": {
      "image/png": "[encoded data removed]",
      "text/plain": [
       "<Figure size 792x648 with 2 Axes>"
      ]
     },
     "metadata": {},
     "output_type": "display_data"
    }
   ],
   "source": [
    "sns.set(style=\"white\")\n",
    "\n",
    "# Compute the correlation matrix\n",
    "corr = train.corr()\n",
    "\n",
    "# Set up the matplotlib figure\n",
    "f, ax = plt.subplots(figsize=(11, 9))\n",
    "\n",
    "# Generate a custom diverging colormap\n",
    "cmap = sns.diverging_palette(220, 10, as_cmap=True)\n",
    "\n",
    "# Draw the heatmap with the mask and correct aspect ratio\n",
    "sns.heatmap(corr, cmap=cmap, vmax=.3, center=0,\n",
    "            square=True, linewidths=.5, cbar_kws={\"shrink\": .5})\n",
    "\n",
    "plt.show()"
   ]
  },
  {
   "cell_type": "markdown",
   "id": "bed665d9",
   "metadata": {
    "papermill": {
     "duration": 0.022715,
     "end_time": "2021-07-17T15:33:40.079168",
     "exception": false,
     "start_time": "2021-07-17T15:33:40.056453",
     "status": "completed"
    },
    "tags": []
   },
   "source": [
    "**Training**"
   ]
  },
  {
   "cell_type": "code",
   "execution_count": 11,
   "id": "45d30e12",
   "metadata": {
    "execution": {
     "iopub.execute_input": "2021-07-17T15:33:40.127198Z",
     "iopub.status.busy": "2021-07-17T15:33:40.126641Z",
     "iopub.status.idle": "2021-07-17T15:33:40.134153Z",
     "shell.execute_reply": "2021-07-17T15:33:40.134586Z",
     "shell.execute_reply.started": "2021-07-17T15:04:41.058401Z"
    },
    "papermill": {
     "duration": 0.032634,
     "end_time": "2021-07-17T15:33:40.134759",
     "exception": false,
     "start_time": "2021-07-17T15:33:40.102125",
     "status": "completed"
    },
    "tags": []
   },
   "outputs": [],
   "source": [
    "def gini(actual, pred, cmpcol = 0, sortcol = 1):\n",
    "    assert( len(actual) == len(pred) )\n",
    "    all = np.asarray(np.c_[ actual, pred, np.arange(len(actual)) ], dtype=np.float)\n",
    "    all = all[ np.lexsort((all[:,2], -1*all[:,1])) ]\n",
    "    totalLosses = all[:,0].sum()\n",
    "    giniSum = all[:,0].cumsum().sum() / totalLosses\n",
    "    \n",
    "    giniSum -= (len(actual) + 1) / 2.\n",
    "    return giniSum / len(actual)\n",
    " \n",
    "def gini_normalized(a, p):\n",
    "    return gini(a, p) / gini(a, a)\n",
    "\n",
    "def gini_xgb(preds, dtrain):\n",
    "    labels = dtrain.get_label()\n",
    "    gini_score = gini_normalized(labels, preds)\n",
    "    return 'gini', gini_score\n"
   ]
  },
  {
   "cell_type": "code",
   "execution_count": 12,
   "id": "9609b849",
   "metadata": {
    "execution": {
     "iopub.execute_input": "2021-07-17T15:33:40.183138Z",
     "iopub.status.busy": "2021-07-17T15:33:40.182513Z",
     "iopub.status.idle": "2021-07-17T15:33:40.331080Z",
     "shell.execute_reply": "2021-07-17T15:33:40.331661Z",
     "shell.execute_reply.started": "2021-07-17T15:04:41.070929Z"
    },
    "papermill": {
     "duration": 0.174586,
     "end_time": "2021-07-17T15:33:40.331830",
     "exception": false,
     "start_time": "2021-07-17T15:33:40.157244",
     "status": "completed"
    },
    "tags": []
   },
   "outputs": [],
   "source": [
    "unwanted = train.columns[train.columns.str.startswith('ps_calc_')]\n",
    "train = train.drop(unwanted, axis=1)  \n",
    "test = test.drop(unwanted, axis=1)"
   ]
  },
  {
   "cell_type": "code",
   "execution_count": 13,
   "id": "8d52d508",
   "metadata": {
    "execution": {
     "iopub.execute_input": "2021-07-17T15:33:40.381831Z",
     "iopub.status.busy": "2021-07-17T15:33:40.381224Z",
     "iopub.status.idle": "2021-07-17T15:33:40.384782Z",
     "shell.execute_reply": "2021-07-17T15:33:40.385212Z",
     "shell.execute_reply.started": "2021-07-17T15:04:41.357873Z"
    },
    "papermill": {
     "duration": 0.02992,
     "end_time": "2021-07-17T15:33:40.385348",
     "exception": false,
     "start_time": "2021-07-17T15:33:40.355428",
     "status": "completed"
    },
    "tags": []
   },
   "outputs": [],
   "source": [
    "kfold = 5\n",
    "skf = StratifiedKFold(n_splits=kfold,shuffle=True, random_state=42)"
   ]
  },
  {
   "cell_type": "code",
   "execution_count": 14,
   "id": "a379355e",
   "metadata": {
    "execution": {
     "iopub.execute_input": "2021-07-17T15:33:40.434276Z",
     "iopub.status.busy": "2021-07-17T15:33:40.433688Z",
     "iopub.status.idle": "2021-07-17T15:33:40.437794Z",
     "shell.execute_reply": "2021-07-17T15:33:40.438235Z",
     "shell.execute_reply.started": "2021-07-17T15:04:41.373840Z"
    },
    "papermill": {
     "duration": 0.030259,
     "end_time": "2021-07-17T15:33:40.438373",
     "exception": false,
     "start_time": "2021-07-17T15:33:40.408114",
     "status": "completed"
    },
    "tags": []
   },
   "outputs": [],
   "source": [
    "params = {\n",
    "    'min_child_weight': 10.0,\n",
    "    'objective': 'binary:logistic',\n",
    "    'max_depth': 7,\n",
    "    'max_delta_step': 1.8,\n",
    "    'colsample_bytree': 0.4,\n",
    "    'subsample': 0.8,\n",
    "    'eta': 0.025,\n",
    "    'gamma': 0.65,\n",
    "    'num_boost_round' : 700\n",
    "    }\n"
   ]
  },
  {
   "cell_type": "code",
   "execution_count": 15,
   "id": "cfce61b7",
   "metadata": {
    "execution": {
     "iopub.execute_input": "2021-07-17T15:33:40.488118Z",
     "iopub.status.busy": "2021-07-17T15:33:40.487476Z",
     "iopub.status.idle": "2021-07-17T15:33:40.664585Z",
     "shell.execute_reply": "2021-07-17T15:33:40.665133Z",
     "shell.execute_reply.started": "2021-07-17T15:04:41.387162Z"
    },
    "papermill": {
     "duration": 0.203513,
     "end_time": "2021-07-17T15:33:40.665304",
     "exception": false,
     "start_time": "2021-07-17T15:33:40.461791",
     "status": "completed"
    },
    "tags": []
   },
   "outputs": [],
   "source": [
    "X = train.drop(['id', 'target'], axis=1).values\n",
    "y = train.target.values\n",
    "test_id = test.id.values\n",
    "test = test.drop('id', axis=1)"
   ]
  },
  {
   "cell_type": "code",
   "execution_count": 16,
   "id": "c6853f93",
   "metadata": {
    "execution": {
     "iopub.execute_input": "2021-07-17T15:33:40.715708Z",
     "iopub.status.busy": "2021-07-17T15:33:40.715117Z",
     "iopub.status.idle": "2021-07-17T15:33:40.834266Z",
     "shell.execute_reply": "2021-07-17T15:33:40.833751Z",
     "shell.execute_reply.started": "2021-07-17T15:04:41.699927Z"
    },
    "papermill": {
     "duration": 0.145378,
     "end_time": "2021-07-17T15:33:40.834442",
     "exception": false,
     "start_time": "2021-07-17T15:33:40.689064",
     "status": "completed"
    },
    "tags": []
   },
   "outputs": [],
   "source": [
    "sub = pd.DataFrame()\n",
    "sub['id'] = test_id\n",
    "sub['target'] = np.zeros_like(test_id)"
   ]
  },
  {
   "cell_type": "code",
   "execution_count": 17,
   "id": "f7f75be1",
   "metadata": {
    "execution": {
     "iopub.execute_input": "2021-07-17T15:33:40.993198Z",
     "iopub.status.busy": "2021-07-17T15:33:40.989358Z",
     "iopub.status.idle": "2021-07-17T15:57:17.824139Z",
     "shell.execute_reply": "2021-07-17T15:57:17.825283Z",
     "shell.execute_reply.started": "2021-07-17T15:04:41.875557Z"
    },
    "papermill": {
     "duration": 1416.967151,
     "end_time": "2021-07-17T15:57:17.825707",
     "exception": false,
     "start_time": "2021-07-17T15:33:40.858556",
     "status": "completed"
    },
    "tags": []
   },
   "outputs": [
    {
     "name": "stdout",
     "output_type": "stream",
     "text": [
      "[Fold 1/5]\n",
      "[15:33:42] WARNING: ../src/learner.cc:573: \n",
      "Parameters: { \"num_boost_round\" } might not be used.\n",
      "\n",
      "  This may not be accurate due to some parameters are only used in language bindings but\n",
      "  passed down to XGBoost core.  Or some parameters are not used but slip through this\n",
      "  verification. Please open an issue if you find above cases.\n",
      "\n",
      "\n",
      "[15:33:42] WARNING: ../src/learner.cc:1095: Starting in XGBoost 1.3.0, the default evaluation metric used with the objective 'binary:logistic' was changed from 'error' to 'logloss'. Explicitly set eval_metric if you'd like to restore the old behavior.\n",
      "[0]\ttrain-logloss:0.67331\ttrain-gini:0.05250\tvalid-logloss:0.67276\tvalid-gini:0.06626\n",
      "[100]\ttrain-logloss:0.16521\ttrain-gini:0.31721\tvalid-logloss:0.16602\tvalid-gini:0.27480\n",
      "[200]\ttrain-logloss:0.14968\ttrain-gini:0.35881\tvalid-logloss:0.15221\tvalid-gini:0.28454\n",
      "[300]\ttrain-logloss:0.14743\ttrain-gini:0.39701\tvalid-logloss:0.15161\tvalid-gini:0.29014\n",
      "[400]\ttrain-logloss:0.14605\ttrain-gini:0.42340\tvalid-logloss:0.15150\tvalid-gini:0.29172\n",
      "[500]\ttrain-logloss:0.14494\ttrain-gini:0.44541\tvalid-logloss:0.15147\tvalid-gini:0.29204\n",
      "[511]\ttrain-logloss:0.14482\ttrain-gini:0.44801\tvalid-logloss:0.15146\tvalid-gini:0.29220\n",
      "[Fold 1/5 Prediciton:]\n"
     ]
    },
    {
     "name": "stderr",
     "output_type": "stream",
     "text": [
      "/opt/conda/lib/python3.7/site-packages/xgboost/core.py:104: UserWarning: ntree_limit is deprecated, use `iteration_range` or model slicing instead.\n",
      "  UserWarning\n"
     ]
    },
    {
     "name": "stdout",
     "output_type": "stream",
     "text": [
      "[Fold 2/5]\n",
      "[15:38:16] WARNING: ../src/learner.cc:573: \n",
      "Parameters: { \"num_boost_round\" } might not be used.\n",
      "\n",
      "  This may not be accurate due to some parameters are only used in language bindings but\n",
      "  passed down to XGBoost core.  Or some parameters are not used but slip through this\n",
      "  verification. Please open an issue if you find above cases.\n",
      "\n",
      "\n",
      "[15:38:17] WARNING: ../src/learner.cc:1095: Starting in XGBoost 1.3.0, the default evaluation metric used with the objective 'binary:logistic' was changed from 'error' to 'logloss'. Explicitly set eval_metric if you'd like to restore the old behavior.\n",
      "[0]\ttrain-logloss:0.67332\ttrain-gini:0.06412\tvalid-logloss:0.67276\tvalid-gini:0.04369\n",
      "[100]\ttrain-logloss:0.16514\ttrain-gini:0.32067\tvalid-logloss:0.16609\tvalid-gini:0.26531\n",
      "[200]\ttrain-logloss:0.14957\ttrain-gini:0.36196\tvalid-logloss:0.15240\tvalid-gini:0.27558\n",
      "[300]\ttrain-logloss:0.14730\ttrain-gini:0.39934\tvalid-logloss:0.15188\tvalid-gini:0.28131\n",
      "[400]\ttrain-logloss:0.14586\ttrain-gini:0.42807\tvalid-logloss:0.15183\tvalid-gini:0.28255\n",
      "[500]\ttrain-logloss:0.14475\ttrain-gini:0.45020\tvalid-logloss:0.15184\tvalid-gini:0.28253\n",
      "[537]\ttrain-logloss:0.14440\ttrain-gini:0.45676\tvalid-logloss:0.15184\tvalid-gini:0.28232\n",
      "[Fold 2/5 Prediciton:]\n",
      "[Fold 3/5]\n",
      "[15:43:09] WARNING: ../src/learner.cc:573: \n",
      "Parameters: { \"num_boost_round\" } might not be used.\n",
      "\n",
      "  This may not be accurate due to some parameters are only used in language bindings but\n",
      "  passed down to XGBoost core.  Or some parameters are not used but slip through this\n",
      "  verification. Please open an issue if you find above cases.\n",
      "\n",
      "\n",
      "[15:43:09] WARNING: ../src/learner.cc:1095: Starting in XGBoost 1.3.0, the default evaluation metric used with the objective 'binary:logistic' was changed from 'error' to 'logloss'. Explicitly set eval_metric if you'd like to restore the old behavior.\n",
      "[0]\ttrain-logloss:0.67331\ttrain-gini:0.04396\tvalid-logloss:0.67274\tvalid-gini:0.04079\n",
      "[100]\ttrain-logloss:0.16514\ttrain-gini:0.32101\tvalid-logloss:0.16605\tvalid-gini:0.26718\n",
      "[200]\ttrain-logloss:0.14954\ttrain-gini:0.36303\tvalid-logloss:0.15219\tvalid-gini:0.27954\n",
      "[300]\ttrain-logloss:0.14728\ttrain-gini:0.40053\tvalid-logloss:0.15166\tvalid-gini:0.28579\n",
      "[400]\ttrain-logloss:0.14584\ttrain-gini:0.42873\tvalid-logloss:0.15160\tvalid-gini:0.28659\n",
      "[500]\ttrain-logloss:0.14466\ttrain-gini:0.45208\tvalid-logloss:0.15162\tvalid-gini:0.28634\n",
      "[502]\ttrain-logloss:0.14463\ttrain-gini:0.45261\tvalid-logloss:0.15162\tvalid-gini:0.28626\n",
      "[Fold 3/5 Prediciton:]\n",
      "[Fold 4/5]\n",
      "[15:47:51] WARNING: ../src/learner.cc:573: \n",
      "Parameters: { \"num_boost_round\" } might not be used.\n",
      "\n",
      "  This may not be accurate due to some parameters are only used in language bindings but\n",
      "  passed down to XGBoost core.  Or some parameters are not used but slip through this\n",
      "  verification. Please open an issue if you find above cases.\n",
      "\n",
      "\n",
      "[15:47:52] WARNING: ../src/learner.cc:1095: Starting in XGBoost 1.3.0, the default evaluation metric used with the objective 'binary:logistic' was changed from 'error' to 'logloss'. Explicitly set eval_metric if you'd like to restore the old behavior.\n",
      "[0]\ttrain-logloss:0.67331\ttrain-gini:0.04370\tvalid-logloss:0.67274\tvalid-gini:0.03899\n",
      "[100]\ttrain-logloss:0.16512\ttrain-gini:0.31933\tvalid-logloss:0.16604\tvalid-gini:0.26776\n",
      "[200]\ttrain-logloss:0.14952\ttrain-gini:0.36262\tvalid-logloss:0.15225\tvalid-gini:0.28097\n",
      "[300]\ttrain-logloss:0.14739\ttrain-gini:0.39810\tvalid-logloss:0.15176\tvalid-gini:0.28486\n",
      "[400]\ttrain-logloss:0.14596\ttrain-gini:0.42614\tvalid-logloss:0.15168\tvalid-gini:0.28685\n",
      "[460]\ttrain-logloss:0.14526\ttrain-gini:0.43952\tvalid-logloss:0.15170\tvalid-gini:0.28628\n",
      "[Fold 4/5 Prediciton:]\n",
      "[Fold 5/5]\n",
      "[15:52:01] WARNING: ../src/learner.cc:573: \n",
      "Parameters: { \"num_boost_round\" } might not be used.\n",
      "\n",
      "  This may not be accurate due to some parameters are only used in language bindings but\n",
      "  passed down to XGBoost core.  Or some parameters are not used but slip through this\n",
      "  verification. Please open an issue if you find above cases.\n",
      "\n",
      "\n",
      "[15:52:02] WARNING: ../src/learner.cc:1095: Starting in XGBoost 1.3.0, the default evaluation metric used with the objective 'binary:logistic' was changed from 'error' to 'logloss'. Explicitly set eval_metric if you'd like to restore the old behavior.\n",
      "[0]\ttrain-logloss:0.67332\ttrain-gini:0.08679\tvalid-logloss:0.67278\tvalid-gini:0.08343\n",
      "[100]\ttrain-logloss:0.16503\ttrain-gini:0.32260\tvalid-logloss:0.16620\tvalid-gini:0.25471\n",
      "[200]\ttrain-logloss:0.14936\ttrain-gini:0.36513\tvalid-logloss:0.15270\tvalid-gini:0.26518\n",
      "[300]\ttrain-logloss:0.14712\ttrain-gini:0.40026\tvalid-logloss:0.15232\tvalid-gini:0.26998\n",
      "[400]\ttrain-logloss:0.14572\ttrain-gini:0.42683\tvalid-logloss:0.15228\tvalid-gini:0.27217\n",
      "[500]\ttrain-logloss:0.14460\ttrain-gini:0.44880\tvalid-logloss:0.15227\tvalid-gini:0.27308\n",
      "[589]\ttrain-logloss:0.14371\ttrain-gini:0.46615\tvalid-logloss:0.15232\tvalid-gini:0.27223\n",
      "[Fold 5/5 Prediciton:]\n"
     ]
    }
   ],
   "source": [
    "for i, (train_index, test_index) in enumerate(skf.split(X, y)):\n",
    "    print('[Fold %d/%d]' % (i + 1, kfold))\n",
    "    X_train, X_valid = X[train_index], X[test_index]\n",
    "    y_train, y_valid = y[train_index], y[test_index]\n",
    "    # Convert our data into XGBoost format\n",
    "    d_train = xgb.DMatrix(X_train, y_train)\n",
    "    d_valid = xgb.DMatrix(X_valid, y_valid)\n",
    "    d_test = xgb.DMatrix(test.values)\n",
    "    watchlist = [(d_train, 'train'), (d_valid, 'valid')]\n",
    "\n",
    "    # Train the model! We pass in a max of 1,600 rounds (with early stopping after 70)\n",
    "    # and the custom metric (maximize=True tells xgb that higher metric is better)\n",
    "    mdl = xgb.train(params, d_train, 1600, watchlist, early_stopping_rounds=70, feval=gini_xgb, maximize=True, verbose_eval=100)\n",
    "\n",
    "    print('[Fold %d/%d Prediciton:]' % (i + 1, kfold))\n",
    "    # Predict on our test data\n",
    "    p_test = mdl.predict(d_test, ntree_limit=mdl.best_ntree_limit)\n",
    "    sub['target'] += p_test/kfold"
   ]
  },
  {
   "cell_type": "code",
   "execution_count": 18,
   "id": "2ff036f9",
   "metadata": {
    "execution": {
     "iopub.execute_input": "2021-07-17T15:57:17.909511Z",
     "iopub.status.busy": "2021-07-17T15:57:17.908871Z",
     "iopub.status.idle": "2021-07-17T15:57:20.684498Z",
     "shell.execute_reply": "2021-07-17T15:57:20.683892Z",
     "shell.execute_reply.started": "2021-07-17T15:30:22.406988Z"
    },
    "papermill": {
     "duration": 2.818928,
     "end_time": "2021-07-17T15:57:20.684672",
     "exception": false,
     "start_time": "2021-07-17T15:57:17.865744",
     "status": "completed"
    },
    "tags": []
   },
   "outputs": [],
   "source": [
    "sub.to_csv('kfold_stratified_xgboost.csv', index=False)"
   ]
  }
 ],
 "metadata": {
  "kernelspec": {
   "display_name": "Python 3",
   "language": "python",
   "name": "python3"
  },
  "language_info": {
   "codemirror_mode": {
    "name": "ipython",
    "version": 3
   },
   "file_extension": ".py",
   "mimetype": "text/x-python",
   "name": "python",
   "nbconvert_exporter": "python",
   "pygments_lexer": "ipython3",
   "version": "3.7.10"
  },
  "papermill": {
   "default_parameters": {},
   "duration": 1448.095932,
   "end_time": "2021-07-17T15:57:22.359631",
   "environment_variables": {},
   "exception": null,
   "input_path": "__notebook__.ipynb",
   "output_path": "__notebook__.ipynb",
   "parameters": {},
   "start_time": "2021-07-17T15:33:14.263699",
   "version": "2.3.3"
  }
 },
 "nbformat": 4,
 "nbformat_minor": 5
}
